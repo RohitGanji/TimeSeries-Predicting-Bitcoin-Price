{
  "nbformat": 4,
  "nbformat_minor": 0,
  "metadata": {
    "colab": {
      "name": "Bitcoin Price Prediction using Multivariate Time Series Data.ipynb",
      "provenance": [],
      "authorship_tag": "ABX9TyNLXprZtDl2iK5xT5ug4Qna",
      "include_colab_link": true
    },
    "kernelspec": {
      "name": "python3",
      "display_name": "Python 3"
    },
    "language_info": {
      "name": "python"
    },
    "accelerator": "GPU"
  },
  "cells": [
    {
      "cell_type": "markdown",
      "metadata": {
        "id": "view-in-github",
        "colab_type": "text"
      },
      "source": [
        "<a href=\"https://colab.research.google.com/github/RohitGanji/bitcoin-price-prediction/blob/main/Bitcoin_Price_Prediction_using_Multivariate_Time_Series_Data.ipynb\" target=\"_parent\"><img src=\"https://colab.research.google.com/assets/colab-badge.svg\" alt=\"Open In Colab\"/></a>"
      ]
    },
    {
      "cell_type": "markdown",
      "metadata": {
        "id": "BnnkJjQ3uUWW"
      },
      "source": [
        "# Bitcoin Price Prediction using Multivariate Time Series Data\n",
        "\n",
        "The goal of this notebook is to predict the Bitcoin Price 💰📈\n",
        "<br><br>\n",
        "**Univariate Time Series:** Time Series that consists of single observations recorded sequentially over equal time increments. (Single column in pandas dataframe)\n",
        "\n",
        "**Multivariate Time Series:** Time Series that consists of more than one observations recorded sequentially over equal time increments. (Multiple columns in pandas dataframe)\n",
        "\n",
        "| Univarite | Multivariate |\n",
        "| ----- | ----- |\n",
        "| Single observation | Multiple observations |\n",
        "-\n",
        "<br>\n",
        "We're going to use the historical Bitcoin price data and Bitcoin block reward size as our dataset.\n",
        "\n",
        "> **Note:** This is not a financial advice. I am not responsible if you make financial decisions based on this model's predictions. Time Series forecasting for market prices is terrible."
      ]
    },
    {
      "cell_type": "code",
      "metadata": {
        "id": "zp1OhLB1VbwI"
      },
      "source": [
        "import pandas as pd\n",
        "import numpy as np"
      ],
      "execution_count": 2,
      "outputs": []
    },
    {
      "cell_type": "markdown",
      "metadata": {
        "id": "P68-dhyfyXYH"
      },
      "source": [
        "## Preprocess Data\n",
        "\n",
        "Let's create Multivariate Time Series Data with:\n",
        "\n",
        "1. Bitcoin Historical Prices\n",
        "2. Bitcoin Block Reward values"
      ]
    },
    {
      "cell_type": "markdown",
      "metadata": {
        "id": "jI8--My4LOh2"
      },
      "source": [
        "### Importing Bitcoin Historical Data\n",
        "\n",
        "You can find the historical data from [Coindesk](https://www.coindesk.com/price/bitcoin).<br><br>\n",
        "<img src=\"https://github.com/RohitGanji/bitcoin-price-prediction/raw/main/bitcoin-prices.png\" width=\"400\"/><br>**Note:** Click on `all` and click on `EXPORT DATA` to download the data.\n",
        "I'll be using the data as of `21/08/2021`. You can download the CSV file from my [GitHub](https://github.com/RohitGanji/bitcoin-price-prediction) alternatively."
      ]
    },
    {
      "cell_type": "code",
      "metadata": {
        "id": "E_erw0qDOb_b"
      },
      "source": [
        "# Download the data from GitHub\n",
        "!wget -q https://github.com/RohitGanji/bitcoin-price-prediction/raw/main/BTC_USD_2013-10-01_2021-08-21-CoinDesk.csv"
      ],
      "execution_count": 3,
      "outputs": []
    },
    {
      "cell_type": "markdown",
      "metadata": {
        "id": "VBIsurtmQoDB"
      },
      "source": [
        "Here is a sample of our data.\n",
        "\n",
        "<img src=\"https://github.com/RohitGanji/bitcoin-price-prediction/raw/main/df-head.png\" width=\"75%\"/>\n",
        "\n",
        "Let's import our data. As the data is in CSV format, let's use pandas `read_csv()` function. \n",
        "\n",
        "We'll only be needing the `Closing Price (USD)` prices for our model. And as our data has a date component, let's parse the dates using `parse_dates` parameter."
      ]
    },
    {
      "cell_type": "code",
      "metadata": {
        "colab": {
          "base_uri": "https://localhost:8080/",
          "height": 232
        },
        "id": "edoFvUPJOmW1",
        "outputId": "28d299f1-92f4-4bef-8457-4566bbf3d065"
      },
      "source": [
        "# Import the data with pandas\n",
        "import pandas as pd\n",
        "\n",
        "btc = pd.read_csv(\"/content/BTC_USD_2013-10-01_2021-08-21-CoinDesk.csv\",\n",
        "                 parse_dates=[\"Date\"], index_col=\"Date\",\n",
        "                 usecols=[\"Date\", \"Closing Price (USD)\"])\n",
        "btc.columns = [\"Price\"]\n",
        "btc.head()"
      ],
      "execution_count": 4,
      "outputs": [
        {
          "output_type": "execute_result",
          "data": {
            "text/html": [
              "<div>\n",
              "<style scoped>\n",
              "    .dataframe tbody tr th:only-of-type {\n",
              "        vertical-align: middle;\n",
              "    }\n",
              "\n",
              "    .dataframe tbody tr th {\n",
              "        vertical-align: top;\n",
              "    }\n",
              "\n",
              "    .dataframe thead th {\n",
              "        text-align: right;\n",
              "    }\n",
              "</style>\n",
              "<table border=\"1\" class=\"dataframe\">\n",
              "  <thead>\n",
              "    <tr style=\"text-align: right;\">\n",
              "      <th></th>\n",
              "      <th>Price</th>\n",
              "    </tr>\n",
              "    <tr>\n",
              "      <th>Date</th>\n",
              "      <th></th>\n",
              "    </tr>\n",
              "  </thead>\n",
              "  <tbody>\n",
              "    <tr>\n",
              "      <th>2013-10-01</th>\n",
              "      <td>123.65499</td>\n",
              "    </tr>\n",
              "    <tr>\n",
              "      <th>2013-10-02</th>\n",
              "      <td>125.45500</td>\n",
              "    </tr>\n",
              "    <tr>\n",
              "      <th>2013-10-03</th>\n",
              "      <td>108.58483</td>\n",
              "    </tr>\n",
              "    <tr>\n",
              "      <th>2013-10-04</th>\n",
              "      <td>118.67466</td>\n",
              "    </tr>\n",
              "    <tr>\n",
              "      <th>2013-10-05</th>\n",
              "      <td>121.33866</td>\n",
              "    </tr>\n",
              "  </tbody>\n",
              "</table>\n",
              "</div>"
            ],
            "text/plain": [
              "                Price\n",
              "Date                 \n",
              "2013-10-01  123.65499\n",
              "2013-10-02  125.45500\n",
              "2013-10-03  108.58483\n",
              "2013-10-04  118.67466\n",
              "2013-10-05  121.33866"
            ]
          },
          "metadata": {},
          "execution_count": 4
        }
      ]
    },
    {
      "cell_type": "code",
      "metadata": {
        "colab": {
          "base_uri": "https://localhost:8080/",
          "height": 415
        },
        "id": "hGUGjuuebag9",
        "outputId": "66792651-5ec6-4930-bbab-8527760aa149"
      },
      "source": [
        "btc.plot(figsize=(10,7));"
      ],
      "execution_count": 5,
      "outputs": [
        {
          "output_type": "display_data",
          "data": {
            "image/png": "[encoded data removed]",
            "text/plain": [
              "<Figure size 720x504 with 1 Axes>"
            ]
          },
          "metadata": {
            "needs_background": "light"
          }
        }
      ]
    },
    {
      "cell_type": "markdown",
      "metadata": {
        "id": "3PSOF75COzQz"
      },
      "source": [
        "### Adding Block Reward values\n",
        "\n",
        "You can find the historical data for Bitcoin Block reward halfing dates and values [here](https://www.cmcmarkets.com/en/learn-cryptocurrencies/bitcoin-halving).<br><br>\n",
        "\n",
        "| Block Reward | Start Date | End Date |\n",
        "| ----- | ----- | ----- |\n",
        "| 25 | 2012-11-28 | 2016-08-08 |\n",
        "| 12.5 | 2016-07-09 | 2020-05-10 |\n",
        "| 6.25 | 2020-05-11 | TBA (2024) |\n",
        "\n",
        "<br>Let's manually add this data as a new column."
      ]
    },
    {
      "cell_type": "code",
      "metadata": {
        "id": "spv21CmGO0Qz"
      },
      "source": [
        "import numpy as np\n",
        "\n",
        "# Block Rewards\n",
        "reward_1 = 25.0\n",
        "reward_2 = 12.5\n",
        "reward_3 = 6.25\n",
        "\n",
        "# Block reward dates\n",
        "reward_1_date = np.datetime64(\"2012-11-28\")\n",
        "reward_2_date = np.datetime64(\"2016-07-09\")\n",
        "reward_3_date = np.datetime64(\"2020-05-11\")"
      ],
      "execution_count": 6,
      "outputs": []
    },
    {
      "cell_type": "markdown",
      "metadata": {
        "id": "xucjfTMRV5fA"
      },
      "source": [
        "Let's get the days for each reward block values."
      ]
    },
    {
      "cell_type": "code",
      "metadata": {
        "colab": {
          "base_uri": "https://localhost:8080/"
        },
        "id": "rfxYY7nRV5FC",
        "outputId": "554b03ba-4bd1-469d-a857-811137f29bcf"
      },
      "source": [
        "# Block reward days\n",
        "reward_2_days = (reward_2_date - btc.index[0]).days\n",
        "reward_3_days = (reward_3_date - btc.index[0]).days\n",
        "\n",
        "reward_2_days, reward_3_days"
      ],
      "execution_count": 7,
      "outputs": [
        {
          "output_type": "execute_result",
          "data": {
            "text/plain": [
              "(1012, 2414)"
            ]
          },
          "metadata": {},
          "execution_count": 7
        }
      ]
    },
    {
      "cell_type": "markdown",
      "metadata": {
        "id": "kdVDIxSFZ9i4"
      },
      "source": [
        "Now let's add another column `Reward` to our data."
      ]
    },
    {
      "cell_type": "code",
      "metadata": {
        "id": "7bUSx5X_WId2"
      },
      "source": [
        "btc[\"Reward\"] = None\n",
        "\n",
        "# Set values of Reward column\n",
        "btc.iloc[:reward_2_days, -1] = reward_1\n",
        "btc.iloc[reward_2_days:reward_3_days, -1] = reward_2\n",
        "btc.iloc[reward_3_days:, -1] = reward_3"
      ],
      "execution_count": 8,
      "outputs": []
    },
    {
      "cell_type": "markdown",
      "metadata": {
        "id": "eI8EbqYEbt-8"
      },
      "source": [
        "We've added a new column to our data. Let's see what it looks like."
      ]
    },
    {
      "cell_type": "code",
      "metadata": {
        "colab": {
          "base_uri": "https://localhost:8080/",
          "height": 232
        },
        "id": "m0vzPuMnbtoc",
        "outputId": "3534f397-fa1a-4a22-ffd8-d4e54b4c4656"
      },
      "source": [
        "btc.head()"
      ],
      "execution_count": 9,
      "outputs": [
        {
          "output_type": "execute_result",
          "data": {
            "text/html": [
              "<div>\n",
              "<style scoped>\n",
              "    .dataframe tbody tr th:only-of-type {\n",
              "        vertical-align: middle;\n",
              "    }\n",
              "\n",
              "    .dataframe tbody tr th {\n",
              "        vertical-align: top;\n",
              "    }\n",
              "\n",
              "    .dataframe thead th {\n",
              "        text-align: right;\n",
              "    }\n",
              "</style>\n",
              "<table border=\"1\" class=\"dataframe\">\n",
              "  <thead>\n",
              "    <tr style=\"text-align: right;\">\n",
              "      <th></th>\n",
              "      <th>Price</th>\n",
              "      <th>Reward</th>\n",
              "    </tr>\n",
              "    <tr>\n",
              "      <th>Date</th>\n",
              "      <th></th>\n",
              "      <th></th>\n",
              "    </tr>\n",
              "  </thead>\n",
              "  <tbody>\n",
              "    <tr>\n",
              "      <th>2013-10-01</th>\n",
              "      <td>123.65499</td>\n",
              "      <td>25</td>\n",
              "    </tr>\n",
              "    <tr>\n",
              "      <th>2013-10-02</th>\n",
              "      <td>125.45500</td>\n",
              "      <td>25</td>\n",
              "    </tr>\n",
              "    <tr>\n",
              "      <th>2013-10-03</th>\n",
              "      <td>108.58483</td>\n",
              "      <td>25</td>\n",
              "    </tr>\n",
              "    <tr>\n",
              "      <th>2013-10-04</th>\n",
              "      <td>118.67466</td>\n",
              "      <td>25</td>\n",
              "    </tr>\n",
              "    <tr>\n",
              "      <th>2013-10-05</th>\n",
              "      <td>121.33866</td>\n",
              "      <td>25</td>\n",
              "    </tr>\n",
              "  </tbody>\n",
              "</table>\n",
              "</div>"
            ],
            "text/plain": [
              "                Price Reward\n",
              "Date                        \n",
              "2013-10-01  123.65499     25\n",
              "2013-10-02  125.45500     25\n",
              "2013-10-03  108.58483     25\n",
              "2013-10-04  118.67466     25\n",
              "2013-10-05  121.33866     25"
            ]
          },
          "metadata": {},
          "execution_count": 9
        }
      ]
    },
    {
      "cell_type": "markdown",
      "metadata": {
        "id": "_VqJOgvpbXGm"
      },
      "source": [
        "### Visualizing Data\n",
        "\n",
        "Let's visualize our data"
      ]
    },
    {
      "cell_type": "code",
      "metadata": {
        "colab": {
          "base_uri": "https://localhost:8080/",
          "height": 232
        },
        "id": "t7AdJ3TEb1cc",
        "outputId": "4e62fd15-6e92-4506-8f06-c04717d572ed"
      },
      "source": [
        "from sklearn.preprocessing import minmax_scale\n",
        "\n",
        "btc_scaled = pd.DataFrame(minmax_scale(btc[[\"Price\", \"Reward\"]]),\n",
        "                          columns = btc.columns,\n",
        "                          index = btc.index)\n",
        "\n",
        "btc_scaled.head()"
      ],
      "execution_count": 10,
      "outputs": [
        {
          "output_type": "execute_result",
          "data": {
            "text/html": [
              "<div>\n",
              "<style scoped>\n",
              "    .dataframe tbody tr th:only-of-type {\n",
              "        vertical-align: middle;\n",
              "    }\n",
              "\n",
              "    .dataframe tbody tr th {\n",
              "        vertical-align: top;\n",
              "    }\n",
              "\n",
              "    .dataframe thead th {\n",
              "        text-align: right;\n",
              "    }\n",
              "</style>\n",
              "<table border=\"1\" class=\"dataframe\">\n",
              "  <thead>\n",
              "    <tr style=\"text-align: right;\">\n",
              "      <th></th>\n",
              "      <th>Price</th>\n",
              "      <th>Reward</th>\n",
              "    </tr>\n",
              "    <tr>\n",
              "      <th>Date</th>\n",
              "      <th></th>\n",
              "      <th></th>\n",
              "    </tr>\n",
              "  </thead>\n",
              "  <tbody>\n",
              "    <tr>\n",
              "      <th>2013-10-01</th>\n",
              "      <td>0.000238</td>\n",
              "      <td>1.0</td>\n",
              "    </tr>\n",
              "    <tr>\n",
              "      <th>2013-10-02</th>\n",
              "      <td>0.000267</td>\n",
              "      <td>1.0</td>\n",
              "    </tr>\n",
              "    <tr>\n",
              "      <th>2013-10-03</th>\n",
              "      <td>0.000000</td>\n",
              "      <td>1.0</td>\n",
              "    </tr>\n",
              "    <tr>\n",
              "      <th>2013-10-04</th>\n",
              "      <td>0.000160</td>\n",
              "      <td>1.0</td>\n",
              "    </tr>\n",
              "    <tr>\n",
              "      <th>2013-10-05</th>\n",
              "      <td>0.000202</td>\n",
              "      <td>1.0</td>\n",
              "    </tr>\n",
              "  </tbody>\n",
              "</table>\n",
              "</div>"
            ],
            "text/plain": [
              "               Price  Reward\n",
              "Date                        \n",
              "2013-10-01  0.000238     1.0\n",
              "2013-10-02  0.000267     1.0\n",
              "2013-10-03  0.000000     1.0\n",
              "2013-10-04  0.000160     1.0\n",
              "2013-10-05  0.000202     1.0"
            ]
          },
          "metadata": {},
          "execution_count": 10
        }
      ]
    },
    {
      "cell_type": "code",
      "metadata": {
        "colab": {
          "base_uri": "https://localhost:8080/",
          "height": 415
        },
        "id": "54T843yQcZzV",
        "outputId": "c81f7f65-a303-4a1f-9c3a-7235e3312fa9"
      },
      "source": [
        "btc_scaled.plot(figsize=(10,7));"
      ],
      "execution_count": 11,
      "outputs": [
        {
          "output_type": "display_data",
          "data": {
            "image/png": "[encoded data removed]",
            "text/plain": [
              "<Figure size 720x504 with 1 Axes>"
            ]
          },
          "metadata": {
            "needs_background": "light"
          }
        }
      ]
    },
    {
      "cell_type": "markdown",
      "metadata": {
        "id": "E_UPQh6Xchf0"
      },
      "source": [
        "After scaling, we can conclude that the price of the Bitcoin increases as the Block Reward value decreases. This could be a vital information that could affect our model's performance."
      ]
    },
    {
      "cell_type": "markdown",
      "metadata": {
        "id": "FkkM4yKTczKD"
      },
      "source": [
        "## Create Dataset"
      ]
    },
    {
      "cell_type": "code",
      "metadata": {
        "colab": {
          "base_uri": "https://localhost:8080/",
          "height": 385
        },
        "id": "38EYm-g8LoeI",
        "outputId": "00b5ebcd-fed8-4181-c942-1d5f127c095b"
      },
      "source": [
        "HORIZON = 1\n",
        "WINDOW_SIZE = 7\n",
        "\n",
        "btc_windowed = btc.copy()\n",
        "\n",
        "for i in range(WINDOW_SIZE):\n",
        "  btc_windowed[f\"Price+{i+1}\"] = btc_windowed[f\"Price\"].shift(periods=i+1)\n",
        "\n",
        "btc_windowed.head(10)"
      ],
      "execution_count": 12,
      "outputs": [
        {
          "output_type": "execute_result",
          "data": {
            "text/html": [
              "<div>\n",
              "<style scoped>\n",
              "    .dataframe tbody tr th:only-of-type {\n",
              "        vertical-align: middle;\n",
              "    }\n",
              "\n",
              "    .dataframe tbody tr th {\n",
              "        vertical-align: top;\n",
              "    }\n",
              "\n",
              "    .dataframe thead th {\n",
              "        text-align: right;\n",
              "    }\n",
              "</style>\n",
              "<table border=\"1\" class=\"dataframe\">\n",
              "  <thead>\n",
              "    <tr style=\"text-align: right;\">\n",
              "      <th></th>\n",
              "      <th>Price</th>\n",
              "      <th>Reward</th>\n",
              "      <th>Price+1</th>\n",
              "      <th>Price+2</th>\n",
              "      <th>Price+3</th>\n",
              "      <th>Price+4</th>\n",
              "      <th>Price+5</th>\n",
              "      <th>Price+6</th>\n",
              "      <th>Price+7</th>\n",
              "    </tr>\n",
              "    <tr>\n",
              "      <th>Date</th>\n",
              "      <th></th>\n",
              "      <th></th>\n",
              "      <th></th>\n",
              "      <th></th>\n",
              "      <th></th>\n",
              "      <th></th>\n",
              "      <th></th>\n",
              "      <th></th>\n",
              "      <th></th>\n",
              "    </tr>\n",
              "  </thead>\n",
              "  <tbody>\n",
              "    <tr>\n",
              "      <th>2013-10-01</th>\n",
              "      <td>123.65499</td>\n",
              "      <td>25</td>\n",
              "      <td>NaN</td>\n",
              "      <td>NaN</td>\n",
              "      <td>NaN</td>\n",
              "      <td>NaN</td>\n",
              "      <td>NaN</td>\n",
              "      <td>NaN</td>\n",
              "      <td>NaN</td>\n",
              "    </tr>\n",
              "    <tr>\n",
              "      <th>2013-10-02</th>\n",
              "      <td>125.45500</td>\n",
              "      <td>25</td>\n",
              "      <td>123.65499</td>\n",
              "      <td>NaN</td>\n",
              "      <td>NaN</td>\n",
              "      <td>NaN</td>\n",
              "      <td>NaN</td>\n",
              "      <td>NaN</td>\n",
              "      <td>NaN</td>\n",
              "    </tr>\n",
              "    <tr>\n",
              "      <th>2013-10-03</th>\n",
              "      <td>108.58483</td>\n",
              "      <td>25</td>\n",
              "      <td>125.45500</td>\n",
              "      <td>123.65499</td>\n",
              "      <td>NaN</td>\n",
              "      <td>NaN</td>\n",
              "      <td>NaN</td>\n",
              "      <td>NaN</td>\n",
              "      <td>NaN</td>\n",
              "    </tr>\n",
              "    <tr>\n",
              "      <th>2013-10-04</th>\n",
              "      <td>118.67466</td>\n",
              "      <td>25</td>\n",
              "      <td>108.58483</td>\n",
              "      <td>125.45500</td>\n",
              "      <td>123.65499</td>\n",
              "      <td>NaN</td>\n",
              "      <td>NaN</td>\n",
              "      <td>NaN</td>\n",
              "      <td>NaN</td>\n",
              "    </tr>\n",
              "    <tr>\n",
              "      <th>2013-10-05</th>\n",
              "      <td>121.33866</td>\n",
              "      <td>25</td>\n",
              "      <td>118.67466</td>\n",
              "      <td>108.58483</td>\n",
              "      <td>125.45500</td>\n",
              "      <td>123.65499</td>\n",
              "      <td>NaN</td>\n",
              "      <td>NaN</td>\n",
              "      <td>NaN</td>\n",
              "    </tr>\n",
              "    <tr>\n",
              "      <th>2013-10-06</th>\n",
              "      <td>120.65533</td>\n",
              "      <td>25</td>\n",
              "      <td>121.33866</td>\n",
              "      <td>118.67466</td>\n",
              "      <td>108.58483</td>\n",
              "      <td>125.45500</td>\n",
              "      <td>123.65499</td>\n",
              "      <td>NaN</td>\n",
              "      <td>NaN</td>\n",
              "    </tr>\n",
              "    <tr>\n",
              "      <th>2013-10-07</th>\n",
              "      <td>121.79500</td>\n",
              "      <td>25</td>\n",
              "      <td>120.65533</td>\n",
              "      <td>121.33866</td>\n",
              "      <td>118.67466</td>\n",
              "      <td>108.58483</td>\n",
              "      <td>125.45500</td>\n",
              "      <td>123.65499</td>\n",
              "      <td>NaN</td>\n",
              "    </tr>\n",
              "    <tr>\n",
              "      <th>2013-10-08</th>\n",
              "      <td>123.03300</td>\n",
              "      <td>25</td>\n",
              "      <td>121.79500</td>\n",
              "      <td>120.65533</td>\n",
              "      <td>121.33866</td>\n",
              "      <td>118.67466</td>\n",
              "      <td>108.58483</td>\n",
              "      <td>125.45500</td>\n",
              "      <td>123.65499</td>\n",
              "    </tr>\n",
              "    <tr>\n",
              "      <th>2013-10-09</th>\n",
              "      <td>124.04900</td>\n",
              "      <td>25</td>\n",
              "      <td>123.03300</td>\n",
              "      <td>121.79500</td>\n",
              "      <td>120.65533</td>\n",
              "      <td>121.33866</td>\n",
              "      <td>118.67466</td>\n",
              "      <td>108.58483</td>\n",
              "      <td>125.45500</td>\n",
              "    </tr>\n",
              "    <tr>\n",
              "      <th>2013-10-10</th>\n",
              "      <td>125.96116</td>\n",
              "      <td>25</td>\n",
              "      <td>124.04900</td>\n",
              "      <td>123.03300</td>\n",
              "      <td>121.79500</td>\n",
              "      <td>120.65533</td>\n",
              "      <td>121.33866</td>\n",
              "      <td>118.67466</td>\n",
              "      <td>108.58483</td>\n",
              "    </tr>\n",
              "  </tbody>\n",
              "</table>\n",
              "</div>"
            ],
            "text/plain": [
              "                Price Reward    Price+1  ...    Price+5    Price+6    Price+7\n",
              "Date                                     ...                                 \n",
              "2013-10-01  123.65499     25        NaN  ...        NaN        NaN        NaN\n",
              "2013-10-02  125.45500     25  123.65499  ...        NaN        NaN        NaN\n",
              "2013-10-03  108.58483     25  125.45500  ...        NaN        NaN        NaN\n",
              "2013-10-04  118.67466     25  108.58483  ...        NaN        NaN        NaN\n",
              "2013-10-05  121.33866     25  118.67466  ...        NaN        NaN        NaN\n",
              "2013-10-06  120.65533     25  121.33866  ...  123.65499        NaN        NaN\n",
              "2013-10-07  121.79500     25  120.65533  ...  125.45500  123.65499        NaN\n",
              "2013-10-08  123.03300     25  121.79500  ...  108.58483  125.45500  123.65499\n",
              "2013-10-09  124.04900     25  123.03300  ...  118.67466  108.58483  125.45500\n",
              "2013-10-10  125.96116     25  124.04900  ...  121.33866  118.67466  108.58483\n",
              "\n",
              "[10 rows x 9 columns]"
            ]
          },
          "metadata": {},
          "execution_count": 12
        }
      ]
    },
    {
      "cell_type": "code",
      "metadata": {
        "colab": {
          "base_uri": "https://localhost:8080/",
          "height": 232
        },
        "id": "4chuW2qPMCT4",
        "outputId": "3cba4466-375e-40d3-8eea-b8eaf585dfaf"
      },
      "source": [
        "X = btc_windowed.dropna().drop(\"Price\", axis=1).astype(np.float32)\n",
        "y = btc_windowed.dropna()[\"Price\"].astype(np.float32)\n",
        "X.head()"
      ],
      "execution_count": 13,
      "outputs": [
        {
          "output_type": "execute_result",
          "data": {
            "text/html": [
              "<div>\n",
              "<style scoped>\n",
              "    .dataframe tbody tr th:only-of-type {\n",
              "        vertical-align: middle;\n",
              "    }\n",
              "\n",
              "    .dataframe tbody tr th {\n",
              "        vertical-align: top;\n",
              "    }\n",
              "\n",
              "    .dataframe thead th {\n",
              "        text-align: right;\n",
              "    }\n",
              "</style>\n",
              "<table border=\"1\" class=\"dataframe\">\n",
              "  <thead>\n",
              "    <tr style=\"text-align: right;\">\n",
              "      <th></th>\n",
              "      <th>Reward</th>\n",
              "      <th>Price+1</th>\n",
              "      <th>Price+2</th>\n",
              "      <th>Price+3</th>\n",
              "      <th>Price+4</th>\n",
              "      <th>Price+5</th>\n",
              "      <th>Price+6</th>\n",
              "      <th>Price+7</th>\n",
              "    </tr>\n",
              "    <tr>\n",
              "      <th>Date</th>\n",
              "      <th></th>\n",
              "      <th></th>\n",
              "      <th></th>\n",
              "      <th></th>\n",
              "      <th></th>\n",
              "      <th></th>\n",
              "      <th></th>\n",
              "      <th></th>\n",
              "    </tr>\n",
              "  </thead>\n",
              "  <tbody>\n",
              "    <tr>\n",
              "      <th>2013-10-08</th>\n",
              "      <td>25.0</td>\n",
              "      <td>121.794998</td>\n",
              "      <td>120.655327</td>\n",
              "      <td>121.338661</td>\n",
              "      <td>118.674660</td>\n",
              "      <td>108.584831</td>\n",
              "      <td>125.455002</td>\n",
              "      <td>123.654991</td>\n",
              "    </tr>\n",
              "    <tr>\n",
              "      <th>2013-10-09</th>\n",
              "      <td>25.0</td>\n",
              "      <td>123.032997</td>\n",
              "      <td>121.794998</td>\n",
              "      <td>120.655327</td>\n",
              "      <td>121.338661</td>\n",
              "      <td>118.674660</td>\n",
              "      <td>108.584831</td>\n",
              "      <td>125.455002</td>\n",
              "    </tr>\n",
              "    <tr>\n",
              "      <th>2013-10-10</th>\n",
              "      <td>25.0</td>\n",
              "      <td>124.049004</td>\n",
              "      <td>123.032997</td>\n",
              "      <td>121.794998</td>\n",
              "      <td>120.655327</td>\n",
              "      <td>121.338661</td>\n",
              "      <td>118.674660</td>\n",
              "      <td>108.584831</td>\n",
              "    </tr>\n",
              "    <tr>\n",
              "      <th>2013-10-11</th>\n",
              "      <td>25.0</td>\n",
              "      <td>125.961159</td>\n",
              "      <td>124.049004</td>\n",
              "      <td>123.032997</td>\n",
              "      <td>121.794998</td>\n",
              "      <td>120.655327</td>\n",
              "      <td>121.338661</td>\n",
              "      <td>118.674660</td>\n",
              "    </tr>\n",
              "    <tr>\n",
              "      <th>2013-10-12</th>\n",
              "      <td>25.0</td>\n",
              "      <td>125.279663</td>\n",
              "      <td>125.961159</td>\n",
              "      <td>124.049004</td>\n",
              "      <td>123.032997</td>\n",
              "      <td>121.794998</td>\n",
              "      <td>120.655327</td>\n",
              "      <td>121.338661</td>\n",
              "    </tr>\n",
              "  </tbody>\n",
              "</table>\n",
              "</div>"
            ],
            "text/plain": [
              "            Reward     Price+1     Price+2  ...     Price+5     Price+6     Price+7\n",
              "Date                                        ...                                    \n",
              "2013-10-08    25.0  121.794998  120.655327  ...  108.584831  125.455002  123.654991\n",
              "2013-10-09    25.0  123.032997  121.794998  ...  118.674660  108.584831  125.455002\n",
              "2013-10-10    25.0  124.049004  123.032997  ...  121.338661  118.674660  108.584831\n",
              "2013-10-11    25.0  125.961159  124.049004  ...  120.655327  121.338661  118.674660\n",
              "2013-10-12    25.0  125.279663  125.961159  ...  121.794998  120.655327  121.338661\n",
              "\n",
              "[5 rows x 8 columns]"
            ]
          },
          "metadata": {},
          "execution_count": 13
        }
      ]
    },
    {
      "cell_type": "code",
      "metadata": {
        "colab": {
          "base_uri": "https://localhost:8080/"
        },
        "id": "y2zCLBBiMjhY",
        "outputId": "29fb5ffa-e427-4d00-c2d3-e6f133268b84"
      },
      "source": [
        "y.head()"
      ],
      "execution_count": 14,
      "outputs": [
        {
          "output_type": "execute_result",
          "data": {
            "text/plain": [
              "Date\n",
              "2013-10-08    123.032997\n",
              "2013-10-09    124.049004\n",
              "2013-10-10    125.961159\n",
              "2013-10-11    125.279663\n",
              "2013-10-12    125.927498\n",
              "Name: Price, dtype: float32"
            ]
          },
          "metadata": {},
          "execution_count": 14
        }
      ]
    },
    {
      "cell_type": "code",
      "metadata": {
        "colab": {
          "base_uri": "https://localhost:8080/"
        },
        "id": "rhsNzP-GMlPP",
        "outputId": "128c72a7-02fd-4e40-f88e-2afd36a775b0"
      },
      "source": [
        "split_size = int(len(X) * 0.8)\n",
        "X_train, y_train = X[:split_size].values, y[:split_size].values\n",
        "X_test, y_test = X[split_size:].values, y[split_size:].values\n",
        "len(X_train), len(y_train), len(X_test), len(y_test)"
      ],
      "execution_count": 15,
      "outputs": [
        {
          "output_type": "execute_result",
          "data": {
            "text/plain": [
              "(2299, 2299, 575, 575)"
            ]
          },
          "metadata": {},
          "execution_count": 15
        }
      ]
    },
    {
      "cell_type": "code",
      "metadata": {
        "colab": {
          "base_uri": "https://localhost:8080/"
        },
        "id": "PwqMiWN0Mu5Q",
        "outputId": "337b6af0-09db-42ed-f9ae-a6de95c677cb"
      },
      "source": [
        "X_train[:5], y_train[:5]"
      ],
      "execution_count": 16,
      "outputs": [
        {
          "output_type": "execute_result",
          "data": {
            "text/plain": [
              "(array([[ 25.     , 121.795  , 120.65533, 121.33866, 118.67466, 108.58483,\n",
              "         125.455  , 123.65499],\n",
              "        [ 25.     , 123.033  , 121.795  , 120.65533, 121.33866, 118.67466,\n",
              "         108.58483, 125.455  ],\n",
              "        [ 25.     , 124.049  , 123.033  , 121.795  , 120.65533, 121.33866,\n",
              "         118.67466, 108.58483],\n",
              "        [ 25.     , 125.96116, 124.049  , 123.033  , 121.795  , 120.65533,\n",
              "         121.33866, 118.67466],\n",
              "        [ 25.     , 125.27966, 125.96116, 124.049  , 123.033  , 121.795  ,\n",
              "         120.65533, 121.33866]], dtype=float32),\n",
              " array([123.033  , 124.049  , 125.96116, 125.27966, 125.9275 ],\n",
              "       dtype=float32))"
            ]
          },
          "metadata": {},
          "execution_count": 16
        }
      ]
    },
    {
      "cell_type": "markdown",
      "metadata": {
        "id": "cnW30Gebg4qP"
      },
      "source": [
        "## Modeling"
      ]
    },
    {
      "cell_type": "code",
      "metadata": {
        "colab": {
          "base_uri": "https://localhost:8080/"
        },
        "id": "dnMQ1kzRg6s_",
        "outputId": "b1614593-cb88-4d44-9deb-e2b5a78890db"
      },
      "source": [
        "import tensorflow as tf\n",
        "from keras import layers\n",
        "\n",
        "model = tf.keras.Sequential([\n",
        "  # layers.LSTM(60, input_shape=(8,2)), #Using this layers is strangely giving a val_loss of 24000+\n",
        "  layers.Dense(256, activation=\"relu\"),\n",
        "  layers.Dense(64, activation=\"relu\"),\n",
        "  layers.Dense(16, activation=\"linear\"),\n",
        "  layers.Dense(HORIZON)\n",
        "])\n",
        "\n",
        "# Compile\n",
        "model.compile(loss=tf.keras.losses.Huber(),\n",
        "              optimizer=tf.keras.optimizers.Adam(),\n",
        "              metrics=[\"mae\", \"mse\"])\n",
        "\n",
        "# Fit\n",
        "model.fit(X_train, y_train,\n",
        "          epochs=100, verbose=0,\n",
        "          validation_data=(X_test, y_test),\n",
        "          callbacks=[tf.keras.callbacks.ModelCheckpoint(\"model\",\n",
        "                                                        verbose=0,\n",
        "                                                        save_best_only=True)])"
      ],
      "execution_count": 17,
      "outputs": [
        {
          "output_type": "stream",
          "name": "stdout",
          "text": [
            "INFO:tensorflow:Assets written to: model/assets\n",
            "INFO:tensorflow:Assets written to: model/assets\n",
            "INFO:tensorflow:Assets written to: model/assets\n",
            "INFO:tensorflow:Assets written to: model/assets\n",
            "INFO:tensorflow:Assets written to: model/assets\n",
            "INFO:tensorflow:Assets written to: model/assets\n",
            "INFO:tensorflow:Assets written to: model/assets\n",
            "INFO:tensorflow:Assets written to: model/assets\n",
            "INFO:tensorflow:Assets written to: model/assets\n",
            "INFO:tensorflow:Assets written to: model/assets\n",
            "INFO:tensorflow:Assets written to: model/assets\n",
            "INFO:tensorflow:Assets written to: model/assets\n",
            "INFO:tensorflow:Assets written to: model/assets\n"
          ]
        },
        {
          "output_type": "execute_result",
          "data": {
            "text/plain": [
              "<keras.callbacks.History at 0x7f23f00f5c90>"
            ]
          },
          "metadata": {},
          "execution_count": 17
        }
      ]
    },
    {
      "cell_type": "code",
      "metadata": {
        "colab": {
          "base_uri": "https://localhost:8080/"
        },
        "id": "eN8Cafp4kVkB",
        "outputId": "6792a07f-a3c1-424a-dbfc-91ac4bf8e9f3"
      },
      "source": [
        "model = tf.keras.models.load_model(\"model\")\n",
        "model.evaluate(X_test, y_test)"
      ],
      "execution_count": 18,
      "outputs": [
        {
          "output_type": "stream",
          "name": "stdout",
          "text": [
            "18/18 [==============================] - 0s 3ms/step - loss: 730.0288 - mae: 730.5285 - mse: 1535852.2500\n"
          ]
        },
        {
          "output_type": "execute_result",
          "data": {
            "text/plain": [
              "[730.02880859375, 730.5285034179688, 1535852.25]"
            ]
          },
          "metadata": {},
          "execution_count": 18
        }
      ]
    },
    {
      "cell_type": "code",
      "metadata": {
        "colab": {
          "base_uri": "https://localhost:8080/"
        },
        "id": "GyBXovUKG3He",
        "outputId": "8b5bffe5-1cc7-4773-f500-a7694ffbaf7d"
      },
      "source": [
        "model.summary()"
      ],
      "execution_count": 19,
      "outputs": [
        {
          "output_type": "stream",
          "name": "stdout",
          "text": [
            "Model: \"sequential\"\n",
            "_________________________________________________________________\n",
            "Layer (type)                 Output Shape              Param #   \n",
            "=================================================================\n",
            "dense (Dense)                (None, 256)               2304      \n",
            "_________________________________________________________________\n",
            "dense_1 (Dense)              (None, 64)                16448     \n",
            "_________________________________________________________________\n",
            "dense_2 (Dense)              (None, 16)                1040      \n",
            "_________________________________________________________________\n",
            "dense_3 (Dense)              (None, 1)                 17        \n",
            "=================================================================\n",
            "Total params: 19,809\n",
            "Trainable params: 19,809\n",
            "Non-trainable params: 0\n",
            "_________________________________________________________________\n"
          ]
        }
      ]
    },
    {
      "cell_type": "markdown",
      "metadata": {
        "id": "ALMbXxEENWtQ"
      },
      "source": [
        "## Prediction"
      ]
    },
    {
      "cell_type": "code",
      "metadata": {
        "colab": {
          "base_uri": "https://localhost:8080/"
        },
        "id": "sAq5Q_toLa4U",
        "outputId": "acdc3c3a-500d-46b5-d6d0-d6aba53d523e"
      },
      "source": [
        "preds = tf.squeeze(model.predict(X_test), axis=-1).numpy()\n",
        "preds.shape"
      ],
      "execution_count": 83,
      "outputs": [
        {
          "output_type": "execute_result",
          "data": {
            "text/plain": [
              "(575,)"
            ]
          },
          "metadata": {},
          "execution_count": 83
        }
      ]
    },
    {
      "cell_type": "code",
      "metadata": {
        "id": "d5Z1hfiDLcQ0"
      },
      "source": [
        "pred_data = pd.DataFrame(preds,columns=[\"Price\"], index=btc[-len(X_test):].index)"
      ],
      "execution_count": 108,
      "outputs": []
    },
    {
      "cell_type": "code",
      "metadata": {
        "colab": {
          "base_uri": "https://localhost:8080/",
          "height": 631
        },
        "id": "lb1M1GFhRj2R",
        "outputId": "e74757f7-fa3e-41ec-b04a-1575220edf00"
      },
      "source": [
        "import matplotlib.pyplot as plt\n",
        "\n",
        "plt.figure(figsize=(10, 7), dpi=100)\n",
        "plt.plot(btc.Price, label=\"True\")\n",
        "plt.plot(pred_data, label=\"Preds\")\n",
        "plt.title(\"Bitcoin Price Prediction\")\n",
        "plt.xlabel(\"Date\")\n",
        "plt.ylabel(\"Price\")\n",
        "plt.legend()\n",
        "plt.show();"
      ],
      "execution_count": 123,
      "outputs": [
        {
          "output_type": "display_data",
          "data": {
            "image/png": "[encoded data removed]",
            "text/plain": [
              "<Figure size 1000x700 with 1 Axes>"
            ]
          },
          "metadata": {
            "needs_background": "light"
          }
        }
      ]
    },
    {
      "cell_type": "code",
      "metadata": {
        "id": "UFL3s-JHSWZs"
      },
      "source": [
        ""
      ],
      "execution_count": null,
      "outputs": []
    }
  ]
}